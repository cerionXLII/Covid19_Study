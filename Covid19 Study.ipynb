{
 "cells": [
  {
   "cell_type": "code",
   "execution_count": 19,
   "id": "blank-tractor",
   "metadata": {},
   "outputs": [],
   "source": [
    "import pandas as pd\n",
    "import numpy as np\n",
    "import matplotlib.pyplot as plt\n",
    "import seaborn as sns"
   ]
  },
  {
   "cell_type": "code",
   "execution_count": 2,
   "id": "olive-january",
   "metadata": {},
   "outputs": [],
   "source": [
    "# Covid-19 Data is collected from \n",
    "# https://www.ecdc.europa.eu/en/covid-19/data"
   ]
  },
  {
   "cell_type": "code",
   "execution_count": 3,
   "id": "about-device",
   "metadata": {},
   "outputs": [],
   "source": [
    "# Download the data\n",
    "file = 'https://opendata.ecdc.europa.eu/covid19/nationalcasedeath/csv/data.csv'\n",
    "df = pd.read_csv(file)"
   ]
  },
  {
   "cell_type": "code",
   "execution_count": 4,
   "id": "agricultural-vampire",
   "metadata": {},
   "outputs": [
    {
     "data": {
      "text/html": [
       "<div>\n",
       "<style scoped>\n",
       "    .dataframe tbody tr th:only-of-type {\n",
       "        vertical-align: middle;\n",
       "    }\n",
       "\n",
       "    .dataframe tbody tr th {\n",
       "        vertical-align: top;\n",
       "    }\n",
       "\n",
       "    .dataframe thead th {\n",
       "        text-align: right;\n",
       "    }\n",
       "</style>\n",
       "<table border=\"1\" class=\"dataframe\">\n",
       "  <thead>\n",
       "    <tr style=\"text-align: right;\">\n",
       "      <th></th>\n",
       "      <th>country</th>\n",
       "      <th>country_code</th>\n",
       "      <th>continent</th>\n",
       "      <th>population</th>\n",
       "      <th>indicator</th>\n",
       "      <th>weekly_count</th>\n",
       "      <th>year_week</th>\n",
       "      <th>rate_14_day</th>\n",
       "      <th>cumulative_count</th>\n",
       "      <th>source</th>\n",
       "    </tr>\n",
       "  </thead>\n",
       "  <tbody>\n",
       "    <tr>\n",
       "      <th>0</th>\n",
       "      <td>Afghanistan</td>\n",
       "      <td>AFG</td>\n",
       "      <td>Asia</td>\n",
       "      <td>38928341</td>\n",
       "      <td>cases</td>\n",
       "      <td>0</td>\n",
       "      <td>2020-01</td>\n",
       "      <td>NaN</td>\n",
       "      <td>0</td>\n",
       "      <td>Epidemic intelligence national data</td>\n",
       "    </tr>\n",
       "    <tr>\n",
       "      <th>1</th>\n",
       "      <td>Afghanistan</td>\n",
       "      <td>AFG</td>\n",
       "      <td>Asia</td>\n",
       "      <td>38928341</td>\n",
       "      <td>cases</td>\n",
       "      <td>0</td>\n",
       "      <td>2020-02</td>\n",
       "      <td>0.0</td>\n",
       "      <td>0</td>\n",
       "      <td>Epidemic intelligence national data</td>\n",
       "    </tr>\n",
       "    <tr>\n",
       "      <th>2</th>\n",
       "      <td>Afghanistan</td>\n",
       "      <td>AFG</td>\n",
       "      <td>Asia</td>\n",
       "      <td>38928341</td>\n",
       "      <td>cases</td>\n",
       "      <td>0</td>\n",
       "      <td>2020-03</td>\n",
       "      <td>0.0</td>\n",
       "      <td>0</td>\n",
       "      <td>Epidemic intelligence national data</td>\n",
       "    </tr>\n",
       "    <tr>\n",
       "      <th>3</th>\n",
       "      <td>Afghanistan</td>\n",
       "      <td>AFG</td>\n",
       "      <td>Asia</td>\n",
       "      <td>38928341</td>\n",
       "      <td>cases</td>\n",
       "      <td>0</td>\n",
       "      <td>2020-04</td>\n",
       "      <td>0.0</td>\n",
       "      <td>0</td>\n",
       "      <td>Epidemic intelligence national data</td>\n",
       "    </tr>\n",
       "    <tr>\n",
       "      <th>4</th>\n",
       "      <td>Afghanistan</td>\n",
       "      <td>AFG</td>\n",
       "      <td>Asia</td>\n",
       "      <td>38928341</td>\n",
       "      <td>cases</td>\n",
       "      <td>0</td>\n",
       "      <td>2020-05</td>\n",
       "      <td>0.0</td>\n",
       "      <td>0</td>\n",
       "      <td>Epidemic intelligence national data</td>\n",
       "    </tr>\n",
       "  </tbody>\n",
       "</table>\n",
       "</div>"
      ],
      "text/plain": [
       "       country country_code continent  population indicator  weekly_count  \\\n",
       "0  Afghanistan          AFG      Asia    38928341     cases             0   \n",
       "1  Afghanistan          AFG      Asia    38928341     cases             0   \n",
       "2  Afghanistan          AFG      Asia    38928341     cases             0   \n",
       "3  Afghanistan          AFG      Asia    38928341     cases             0   \n",
       "4  Afghanistan          AFG      Asia    38928341     cases             0   \n",
       "\n",
       "  year_week  rate_14_day  cumulative_count  \\\n",
       "0   2020-01          NaN                 0   \n",
       "1   2020-02          0.0                 0   \n",
       "2   2020-03          0.0                 0   \n",
       "3   2020-04          0.0                 0   \n",
       "4   2020-05          0.0                 0   \n",
       "\n",
       "                                source  \n",
       "0  Epidemic intelligence national data  \n",
       "1  Epidemic intelligence national data  \n",
       "2  Epidemic intelligence national data  \n",
       "3  Epidemic intelligence national data  \n",
       "4  Epidemic intelligence national data  "
      ]
     },
     "execution_count": 4,
     "metadata": {},
     "output_type": "execute_result"
    }
   ],
   "source": [
    "df.head()"
   ]
  },
  {
   "cell_type": "code",
   "execution_count": 5,
   "id": "advised-compatibility",
   "metadata": {},
   "outputs": [
    {
     "data": {
      "text/html": [
       "<div>\n",
       "<style scoped>\n",
       "    .dataframe tbody tr th:only-of-type {\n",
       "        vertical-align: middle;\n",
       "    }\n",
       "\n",
       "    .dataframe tbody tr th {\n",
       "        vertical-align: top;\n",
       "    }\n",
       "\n",
       "    .dataframe thead th {\n",
       "        text-align: right;\n",
       "    }\n",
       "</style>\n",
       "<table border=\"1\" class=\"dataframe\">\n",
       "  <thead>\n",
       "    <tr style=\"text-align: right;\">\n",
       "      <th></th>\n",
       "      <th>country</th>\n",
       "      <th>country_code</th>\n",
       "      <th>continent</th>\n",
       "      <th>population</th>\n",
       "      <th>indicator</th>\n",
       "      <th>weekly_count</th>\n",
       "      <th>year_week</th>\n",
       "      <th>rate_14_day</th>\n",
       "      <th>cumulative_count</th>\n",
       "      <th>source</th>\n",
       "    </tr>\n",
       "  </thead>\n",
       "  <tbody>\n",
       "    <tr>\n",
       "      <th>42203</th>\n",
       "      <td>Zimbabwe</td>\n",
       "      <td>ZWE</td>\n",
       "      <td>Africa</td>\n",
       "      <td>14862927</td>\n",
       "      <td>deaths</td>\n",
       "      <td>2</td>\n",
       "      <td>2021-46</td>\n",
       "      <td>0.941941</td>\n",
       "      <td>4699</td>\n",
       "      <td>Epidemic intelligence national data</td>\n",
       "    </tr>\n",
       "    <tr>\n",
       "      <th>42204</th>\n",
       "      <td>Zimbabwe</td>\n",
       "      <td>ZWE</td>\n",
       "      <td>Africa</td>\n",
       "      <td>14862927</td>\n",
       "      <td>deaths</td>\n",
       "      <td>6</td>\n",
       "      <td>2021-47</td>\n",
       "      <td>0.538252</td>\n",
       "      <td>4705</td>\n",
       "      <td>Epidemic intelligence national data</td>\n",
       "    </tr>\n",
       "    <tr>\n",
       "      <th>42205</th>\n",
       "      <td>Zimbabwe</td>\n",
       "      <td>ZWE</td>\n",
       "      <td>Africa</td>\n",
       "      <td>14862927</td>\n",
       "      <td>deaths</td>\n",
       "      <td>5</td>\n",
       "      <td>2021-48</td>\n",
       "      <td>0.740096</td>\n",
       "      <td>4710</td>\n",
       "      <td>Epidemic intelligence national data</td>\n",
       "    </tr>\n",
       "    <tr>\n",
       "      <th>42206</th>\n",
       "      <td>Zimbabwe</td>\n",
       "      <td>ZWE</td>\n",
       "      <td>Africa</td>\n",
       "      <td>14862927</td>\n",
       "      <td>deaths</td>\n",
       "      <td>28</td>\n",
       "      <td>2021-49</td>\n",
       "      <td>2.220289</td>\n",
       "      <td>4738</td>\n",
       "      <td>Epidemic intelligence national data</td>\n",
       "    </tr>\n",
       "    <tr>\n",
       "      <th>42207</th>\n",
       "      <td>Zimbabwe</td>\n",
       "      <td>ZWE</td>\n",
       "      <td>Africa</td>\n",
       "      <td>14862927</td>\n",
       "      <td>deaths</td>\n",
       "      <td>49</td>\n",
       "      <td>2021-50</td>\n",
       "      <td>5.180675</td>\n",
       "      <td>4787</td>\n",
       "      <td>Epidemic intelligence national data</td>\n",
       "    </tr>\n",
       "  </tbody>\n",
       "</table>\n",
       "</div>"
      ],
      "text/plain": [
       "        country country_code continent  population indicator  weekly_count  \\\n",
       "42203  Zimbabwe          ZWE    Africa    14862927    deaths             2   \n",
       "42204  Zimbabwe          ZWE    Africa    14862927    deaths             6   \n",
       "42205  Zimbabwe          ZWE    Africa    14862927    deaths             5   \n",
       "42206  Zimbabwe          ZWE    Africa    14862927    deaths            28   \n",
       "42207  Zimbabwe          ZWE    Africa    14862927    deaths            49   \n",
       "\n",
       "      year_week  rate_14_day  cumulative_count  \\\n",
       "42203   2021-46     0.941941              4699   \n",
       "42204   2021-47     0.538252              4705   \n",
       "42205   2021-48     0.740096              4710   \n",
       "42206   2021-49     2.220289              4738   \n",
       "42207   2021-50     5.180675              4787   \n",
       "\n",
       "                                    source  \n",
       "42203  Epidemic intelligence national data  \n",
       "42204  Epidemic intelligence national data  \n",
       "42205  Epidemic intelligence national data  \n",
       "42206  Epidemic intelligence national data  \n",
       "42207  Epidemic intelligence national data  "
      ]
     },
     "execution_count": 5,
     "metadata": {},
     "output_type": "execute_result"
    }
   ],
   "source": [
    "df.tail()"
   ]
  },
  {
   "cell_type": "code",
   "execution_count": 6,
   "id": "eastern-stomach",
   "metadata": {},
   "outputs": [
    {
     "data": {
      "text/html": [
       "<div>\n",
       "<style scoped>\n",
       "    .dataframe tbody tr th:only-of-type {\n",
       "        vertical-align: middle;\n",
       "    }\n",
       "\n",
       "    .dataframe tbody tr th {\n",
       "        vertical-align: top;\n",
       "    }\n",
       "\n",
       "    .dataframe thead th {\n",
       "        text-align: right;\n",
       "    }\n",
       "</style>\n",
       "<table border=\"1\" class=\"dataframe\">\n",
       "  <thead>\n",
       "    <tr style=\"text-align: right;\">\n",
       "      <th></th>\n",
       "      <th>country</th>\n",
       "      <th>year_week</th>\n",
       "      <th>weekly_count</th>\n",
       "      <th>population</th>\n",
       "    </tr>\n",
       "  </thead>\n",
       "  <tbody>\n",
       "    <tr>\n",
       "      <th>0</th>\n",
       "      <td>Afghanistan</td>\n",
       "      <td>2020-01</td>\n",
       "      <td>0</td>\n",
       "      <td>38928341</td>\n",
       "    </tr>\n",
       "    <tr>\n",
       "      <th>1</th>\n",
       "      <td>Afghanistan</td>\n",
       "      <td>2020-02</td>\n",
       "      <td>0</td>\n",
       "      <td>38928341</td>\n",
       "    </tr>\n",
       "    <tr>\n",
       "      <th>2</th>\n",
       "      <td>Afghanistan</td>\n",
       "      <td>2020-03</td>\n",
       "      <td>0</td>\n",
       "      <td>38928341</td>\n",
       "    </tr>\n",
       "    <tr>\n",
       "      <th>3</th>\n",
       "      <td>Afghanistan</td>\n",
       "      <td>2020-04</td>\n",
       "      <td>0</td>\n",
       "      <td>38928341</td>\n",
       "    </tr>\n",
       "    <tr>\n",
       "      <th>4</th>\n",
       "      <td>Afghanistan</td>\n",
       "      <td>2020-05</td>\n",
       "      <td>0</td>\n",
       "      <td>38928341</td>\n",
       "    </tr>\n",
       "  </tbody>\n",
       "</table>\n",
       "</div>"
      ],
      "text/plain": [
       "       country year_week  weekly_count  population\n",
       "0  Afghanistan   2020-01             0    38928341\n",
       "1  Afghanistan   2020-02             0    38928341\n",
       "2  Afghanistan   2020-03             0    38928341\n",
       "3  Afghanistan   2020-04             0    38928341\n",
       "4  Afghanistan   2020-05             0    38928341"
      ]
     },
     "execution_count": 6,
     "metadata": {},
     "output_type": "execute_result"
    }
   ],
   "source": [
    "#Select subset of columns (Cases by date and country)\n",
    "df = df[df['indicator'] == 'cases']\n",
    "df = df[['country', 'year_week', 'weekly_count','population']]\n",
    "df.head()"
   ]
  },
  {
   "cell_type": "code",
   "execution_count": 7,
   "id": "engaging-extreme",
   "metadata": {},
   "outputs": [
    {
     "name": "stdout",
     "output_type": "stream",
     "text": [
      "<class 'pandas.core.frame.DataFrame'>\n",
      "Int64Index: 21104 entries, 0 to 42115\n",
      "Data columns (total 4 columns):\n",
      " #   Column        Non-Null Count  Dtype \n",
      "---  ------        --------------  ----- \n",
      " 0   country       21104 non-null  object\n",
      " 1   year_week     21104 non-null  object\n",
      " 2   weekly_count  21104 non-null  int64 \n",
      " 3   population    21104 non-null  int64 \n",
      "dtypes: int64(2), object(2)\n",
      "memory usage: 824.4+ KB\n"
     ]
    }
   ],
   "source": [
    "#Check data types\n",
    "df.info()"
   ]
  },
  {
   "cell_type": "code",
   "execution_count": 8,
   "id": "upset-venture",
   "metadata": {},
   "outputs": [
    {
     "name": "stdout",
     "output_type": "stream",
     "text": [
      "<class 'pandas.core.frame.DataFrame'>\n",
      "Int64Index: 21104 entries, 0 to 42115\n",
      "Data columns (total 4 columns):\n",
      " #   Column        Non-Null Count  Dtype \n",
      "---  ------        --------------  ----- \n",
      " 0   country       21104 non-null  string\n",
      " 1   year_week     21104 non-null  string\n",
      " 2   weekly_count  21104 non-null  int64 \n",
      " 3   population    21104 non-null  int64 \n",
      "dtypes: int64(2), string(2)\n",
      "memory usage: 824.4 KB\n"
     ]
    }
   ],
   "source": [
    "#Convert columns, year_week and country as string\n",
    "df['country'] = df['country'].astype('string')\n",
    "df['year_week'] = df['year_week'].astype('string')\n",
    "df.info()"
   ]
  },
  {
   "cell_type": "code",
   "execution_count": 9,
   "id": "productive-guest",
   "metadata": {},
   "outputs": [
    {
     "data": {
      "text/html": [
       "<div>\n",
       "<style scoped>\n",
       "    .dataframe tbody tr th:only-of-type {\n",
       "        vertical-align: middle;\n",
       "    }\n",
       "\n",
       "    .dataframe tbody tr th {\n",
       "        vertical-align: top;\n",
       "    }\n",
       "\n",
       "    .dataframe thead th {\n",
       "        text-align: right;\n",
       "    }\n",
       "</style>\n",
       "<table border=\"1\" class=\"dataframe\">\n",
       "  <thead>\n",
       "    <tr style=\"text-align: right;\">\n",
       "      <th></th>\n",
       "      <th>country</th>\n",
       "      <th>year_week</th>\n",
       "      <th>weekly_count</th>\n",
       "      <th>population</th>\n",
       "    </tr>\n",
       "  </thead>\n",
       "  <tbody>\n",
       "    <tr>\n",
       "      <th>10794</th>\n",
       "      <td>Denmark</td>\n",
       "      <td>2020-01</td>\n",
       "      <td>10</td>\n",
       "      <td>5822763</td>\n",
       "    </tr>\n",
       "    <tr>\n",
       "      <th>10795</th>\n",
       "      <td>Denmark</td>\n",
       "      <td>2020-02</td>\n",
       "      <td>13</td>\n",
       "      <td>5822763</td>\n",
       "    </tr>\n",
       "    <tr>\n",
       "      <th>10796</th>\n",
       "      <td>Denmark</td>\n",
       "      <td>2020-03</td>\n",
       "      <td>10</td>\n",
       "      <td>5822763</td>\n",
       "    </tr>\n",
       "    <tr>\n",
       "      <th>10797</th>\n",
       "      <td>Denmark</td>\n",
       "      <td>2020-04</td>\n",
       "      <td>15</td>\n",
       "      <td>5822763</td>\n",
       "    </tr>\n",
       "    <tr>\n",
       "      <th>10798</th>\n",
       "      <td>Denmark</td>\n",
       "      <td>2020-05</td>\n",
       "      <td>16</td>\n",
       "      <td>5822763</td>\n",
       "    </tr>\n",
       "    <tr>\n",
       "      <th>...</th>\n",
       "      <td>...</td>\n",
       "      <td>...</td>\n",
       "      <td>...</td>\n",
       "      <td>...</td>\n",
       "    </tr>\n",
       "    <tr>\n",
       "      <th>36923</th>\n",
       "      <td>Sweden</td>\n",
       "      <td>2021-47</td>\n",
       "      <td>11916</td>\n",
       "      <td>10327589</td>\n",
       "    </tr>\n",
       "    <tr>\n",
       "      <th>36924</th>\n",
       "      <td>Sweden</td>\n",
       "      <td>2021-48</td>\n",
       "      <td>13800</td>\n",
       "      <td>10327589</td>\n",
       "    </tr>\n",
       "    <tr>\n",
       "      <th>36925</th>\n",
       "      <td>Sweden</td>\n",
       "      <td>2021-49</td>\n",
       "      <td>18654</td>\n",
       "      <td>10327589</td>\n",
       "    </tr>\n",
       "    <tr>\n",
       "      <th>36926</th>\n",
       "      <td>Sweden</td>\n",
       "      <td>2021-50</td>\n",
       "      <td>24542</td>\n",
       "      <td>10327589</td>\n",
       "    </tr>\n",
       "    <tr>\n",
       "      <th>36927</th>\n",
       "      <td>Sweden</td>\n",
       "      <td>2021-51</td>\n",
       "      <td>28055</td>\n",
       "      <td>10327589</td>\n",
       "    </tr>\n",
       "  </tbody>\n",
       "</table>\n",
       "<p>519 rows × 4 columns</p>\n",
       "</div>"
      ],
      "text/plain": [
       "       country year_week  weekly_count  population\n",
       "10794  Denmark   2020-01            10     5822763\n",
       "10795  Denmark   2020-02            13     5822763\n",
       "10796  Denmark   2020-03            10     5822763\n",
       "10797  Denmark   2020-04            15     5822763\n",
       "10798  Denmark   2020-05            16     5822763\n",
       "...        ...       ...           ...         ...\n",
       "36923   Sweden   2021-47         11916    10327589\n",
       "36924   Sweden   2021-48         13800    10327589\n",
       "36925   Sweden   2021-49         18654    10327589\n",
       "36926   Sweden   2021-50         24542    10327589\n",
       "36927   Sweden   2021-51         28055    10327589\n",
       "\n",
       "[519 rows x 4 columns]"
      ]
     },
     "execution_count": 9,
     "metadata": {},
     "output_type": "execute_result"
    }
   ],
   "source": [
    "#Get the countries of interest\n",
    "nordicCountries = ['Sweden', 'Denmark', 'Norway', 'Finland', 'Iceland']\n",
    "#nordicCountries = ['Sweden']\n",
    "\n",
    "#Grab those\n",
    "df_nordic = df[df['country'].isin(nordicCountries)]\n",
    "\n",
    "df_nordic"
   ]
  },
  {
   "cell_type": "code",
   "execution_count": 10,
   "id": "radical-worker",
   "metadata": {},
   "outputs": [
    {
     "name": "stdout",
     "output_type": "stream",
     "text": [
      "Total number of NaNs before cleanup:\n",
      "country         0\n",
      "year_week       0\n",
      "weekly_count    0\n",
      "population      0\n",
      "dtype: int64\n"
     ]
    },
    {
     "data": {
      "text/plain": [
       "country         0\n",
       "year_week       0\n",
       "weekly_count    0\n",
       "population      0\n",
       "dtype: int64"
      ]
     },
     "execution_count": 10,
     "metadata": {},
     "output_type": "execute_result"
    }
   ],
   "source": [
    "#Remove negative values and any nans\n",
    "print('Total number of NaNs before cleanup:')\n",
    "print(np.sum(df_nordic.isna()))\n",
    "df_nordic = df_nordic[df_nordic['weekly_count'] >= 0]\n",
    "df_nordic = df_nordic.dropna()\n",
    "np.sum(df_nordic.isna())"
   ]
  },
  {
   "cell_type": "code",
   "execution_count": 15,
   "id": "charged-theology",
   "metadata": {},
   "outputs": [
    {
     "data": {
      "text/html": [
       "<div>\n",
       "<style scoped>\n",
       "    .dataframe tbody tr th:only-of-type {\n",
       "        vertical-align: middle;\n",
       "    }\n",
       "\n",
       "    .dataframe tbody tr th {\n",
       "        vertical-align: top;\n",
       "    }\n",
       "\n",
       "    .dataframe thead th {\n",
       "        text-align: right;\n",
       "    }\n",
       "</style>\n",
       "<table border=\"1\" class=\"dataframe\">\n",
       "  <thead>\n",
       "    <tr style=\"text-align: right;\">\n",
       "      <th></th>\n",
       "      <th>country</th>\n",
       "      <th>year_week</th>\n",
       "      <th>weekly_count</th>\n",
       "      <th>population</th>\n",
       "      <th>weekly_cases_per_100k</th>\n",
       "    </tr>\n",
       "  </thead>\n",
       "  <tbody>\n",
       "    <tr>\n",
       "      <th>14188</th>\n",
       "      <td>Finland</td>\n",
       "      <td>2021-46</td>\n",
       "      <td>7704</td>\n",
       "      <td>5525292</td>\n",
       "      <td>139.431545</td>\n",
       "    </tr>\n",
       "    <tr>\n",
       "      <th>14189</th>\n",
       "      <td>Finland</td>\n",
       "      <td>2021-47</td>\n",
       "      <td>7461</td>\n",
       "      <td>5525292</td>\n",
       "      <td>135.033587</td>\n",
       "    </tr>\n",
       "    <tr>\n",
       "      <th>14190</th>\n",
       "      <td>Finland</td>\n",
       "      <td>2021-48</td>\n",
       "      <td>8942</td>\n",
       "      <td>5525292</td>\n",
       "      <td>161.837601</td>\n",
       "    </tr>\n",
       "    <tr>\n",
       "      <th>14191</th>\n",
       "      <td>Finland</td>\n",
       "      <td>2021-49</td>\n",
       "      <td>9825</td>\n",
       "      <td>5525292</td>\n",
       "      <td>177.818656</td>\n",
       "    </tr>\n",
       "    <tr>\n",
       "      <th>14192</th>\n",
       "      <td>Finland</td>\n",
       "      <td>2021-50</td>\n",
       "      <td>12267</td>\n",
       "      <td>5525292</td>\n",
       "      <td>222.015416</td>\n",
       "    </tr>\n",
       "  </tbody>\n",
       "</table>\n",
       "</div>"
      ],
      "text/plain": [
       "       country year_week  weekly_count  population  weekly_cases_per_100k\n",
       "14188  Finland   2021-46          7704     5525292             139.431545\n",
       "14189  Finland   2021-47          7461     5525292             135.033587\n",
       "14190  Finland   2021-48          8942     5525292             161.837601\n",
       "14191  Finland   2021-49          9825     5525292             177.818656\n",
       "14192  Finland   2021-50         12267     5525292             222.015416"
      ]
     },
     "execution_count": 15,
     "metadata": {},
     "output_type": "execute_result"
    }
   ],
   "source": [
    "#Create cases per 100k population\n",
    "df_nordic['weekly_cases_per_100k'] = 100000.0*df_nordic['weekly_count']/df_nordic['population']\n",
    "df_nordic[df_nordic['country'] == 'Finland'].tail()"
   ]
  },
  {
   "cell_type": "code",
   "execution_count": 12,
   "id": "collected-fence",
   "metadata": {},
   "outputs": [
    {
     "data": {
      "text/plain": [
       "Index(['country', 'year_week', 'weekly_count', 'population',\n",
       "       'weekly_cases_per_100k'],\n",
       "      dtype='object')"
      ]
     },
     "execution_count": 12,
     "metadata": {},
     "output_type": "execute_result"
    }
   ],
   "source": [
    "df_nordic.columns"
   ]
  },
  {
   "cell_type": "code",
   "execution_count": 13,
   "id": "subsequent-albania",
   "metadata": {},
   "outputs": [
    {
     "data": {
      "text/html": [
       "<div>\n",
       "<style scoped>\n",
       "    .dataframe tbody tr th:only-of-type {\n",
       "        vertical-align: middle;\n",
       "    }\n",
       "\n",
       "    .dataframe tbody tr th {\n",
       "        vertical-align: top;\n",
       "    }\n",
       "\n",
       "    .dataframe thead th {\n",
       "        text-align: right;\n",
       "    }\n",
       "</style>\n",
       "<table border=\"1\" class=\"dataframe\">\n",
       "  <thead>\n",
       "    <tr style=\"text-align: right;\">\n",
       "      <th>country</th>\n",
       "      <th>Denmark</th>\n",
       "      <th>Finland</th>\n",
       "      <th>Iceland</th>\n",
       "      <th>Norway</th>\n",
       "      <th>Sweden</th>\n",
       "    </tr>\n",
       "    <tr>\n",
       "      <th>year_week</th>\n",
       "      <th></th>\n",
       "      <th></th>\n",
       "      <th></th>\n",
       "      <th></th>\n",
       "      <th></th>\n",
       "    </tr>\n",
       "  </thead>\n",
       "  <tbody>\n",
       "    <tr>\n",
       "      <th>2020-01</th>\n",
       "      <td>0.171740</td>\n",
       "      <td>0.000000</td>\n",
       "      <td>0.0</td>\n",
       "      <td>0.0</td>\n",
       "      <td>0.0</td>\n",
       "    </tr>\n",
       "    <tr>\n",
       "      <th>2020-02</th>\n",
       "      <td>0.223262</td>\n",
       "      <td>0.000000</td>\n",
       "      <td>0.0</td>\n",
       "      <td>0.0</td>\n",
       "      <td>0.0</td>\n",
       "    </tr>\n",
       "    <tr>\n",
       "      <th>2020-03</th>\n",
       "      <td>0.171740</td>\n",
       "      <td>0.000000</td>\n",
       "      <td>0.0</td>\n",
       "      <td>0.0</td>\n",
       "      <td>0.0</td>\n",
       "    </tr>\n",
       "    <tr>\n",
       "      <th>2020-04</th>\n",
       "      <td>0.257610</td>\n",
       "      <td>0.000000</td>\n",
       "      <td>0.0</td>\n",
       "      <td>0.0</td>\n",
       "      <td>0.0</td>\n",
       "    </tr>\n",
       "    <tr>\n",
       "      <th>2020-05</th>\n",
       "      <td>0.274784</td>\n",
       "      <td>0.018099</td>\n",
       "      <td>0.0</td>\n",
       "      <td>0.0</td>\n",
       "      <td>0.0</td>\n",
       "    </tr>\n",
       "  </tbody>\n",
       "</table>\n",
       "</div>"
      ],
      "text/plain": [
       "country     Denmark   Finland  Iceland  Norway  Sweden\n",
       "year_week                                             \n",
       "2020-01    0.171740  0.000000      0.0     0.0     0.0\n",
       "2020-02    0.223262  0.000000      0.0     0.0     0.0\n",
       "2020-03    0.171740  0.000000      0.0     0.0     0.0\n",
       "2020-04    0.257610  0.000000      0.0     0.0     0.0\n",
       "2020-05    0.274784  0.018099      0.0     0.0     0.0"
      ]
     },
     "execution_count": 13,
     "metadata": {},
     "output_type": "execute_result"
    }
   ],
   "source": [
    "df_stats = df_nordic.pivot(index='year_week', columns='country', values='weekly_cases_per_100k')\n",
    "df_stats.head()"
   ]
  },
  {
   "cell_type": "code",
   "execution_count": 16,
   "id": "crazy-scenario",
   "metadata": {},
   "outputs": [
    {
     "data": {
      "text/html": [
       "<div>\n",
       "<style scoped>\n",
       "    .dataframe tbody tr th:only-of-type {\n",
       "        vertical-align: middle;\n",
       "    }\n",
       "\n",
       "    .dataframe tbody tr th {\n",
       "        vertical-align: top;\n",
       "    }\n",
       "\n",
       "    .dataframe thead th {\n",
       "        text-align: right;\n",
       "    }\n",
       "</style>\n",
       "<table border=\"1\" class=\"dataframe\">\n",
       "  <thead>\n",
       "    <tr style=\"text-align: right;\">\n",
       "      <th>country</th>\n",
       "      <th>Denmark</th>\n",
       "      <th>Finland</th>\n",
       "      <th>Iceland</th>\n",
       "      <th>Norway</th>\n",
       "      <th>Sweden</th>\n",
       "    </tr>\n",
       "    <tr>\n",
       "      <th>year_week</th>\n",
       "      <th></th>\n",
       "      <th></th>\n",
       "      <th></th>\n",
       "      <th></th>\n",
       "      <th></th>\n",
       "    </tr>\n",
       "  </thead>\n",
       "  <tbody>\n",
       "    <tr>\n",
       "      <th>2021-47</th>\n",
       "      <td>427.597689</td>\n",
       "      <td>135.033587</td>\n",
       "      <td>267.758572</td>\n",
       "      <td>343.860734</td>\n",
       "      <td>115.380269</td>\n",
       "    </tr>\n",
       "    <tr>\n",
       "      <th>2021-48</th>\n",
       "      <td>585.186105</td>\n",
       "      <td>161.837601</td>\n",
       "      <td>238.373785</td>\n",
       "      <td>495.362901</td>\n",
       "      <td>133.622668</td>\n",
       "    </tr>\n",
       "    <tr>\n",
       "      <th>2021-49</th>\n",
       "      <td>711.827014</td>\n",
       "      <td>177.818656</td>\n",
       "      <td>247.436383</td>\n",
       "      <td>635.984932</td>\n",
       "      <td>180.622990</td>\n",
       "    </tr>\n",
       "    <tr>\n",
       "      <th>2021-50</th>\n",
       "      <td>1280.388709</td>\n",
       "      <td>222.015416</td>\n",
       "      <td>371.291887</td>\n",
       "      <td>578.920109</td>\n",
       "      <td>237.635328</td>\n",
       "    </tr>\n",
       "    <tr>\n",
       "      <th>2021-51</th>\n",
       "      <td>1290.092006</td>\n",
       "      <td>NaN</td>\n",
       "      <td>911.477643</td>\n",
       "      <td>410.073068</td>\n",
       "      <td>271.651012</td>\n",
       "    </tr>\n",
       "  </tbody>\n",
       "</table>\n",
       "</div>"
      ],
      "text/plain": [
       "country        Denmark     Finland     Iceland      Norway      Sweden\n",
       "year_week                                                             \n",
       "2021-47     427.597689  135.033587  267.758572  343.860734  115.380269\n",
       "2021-48     585.186105  161.837601  238.373785  495.362901  133.622668\n",
       "2021-49     711.827014  177.818656  247.436383  635.984932  180.622990\n",
       "2021-50    1280.388709  222.015416  371.291887  578.920109  237.635328\n",
       "2021-51    1290.092006         NaN  911.477643  410.073068  271.651012"
      ]
     },
     "execution_count": 16,
     "metadata": {},
     "output_type": "execute_result"
    }
   ],
   "source": [
    "df_stats.tail()"
   ]
  },
  {
   "cell_type": "code",
   "execution_count": 17,
   "id": "parallel-barcelona",
   "metadata": {},
   "outputs": [
    {
     "data": {
      "image/png": "[encoded data removed]",
      "text/plain": [
       "<Figure size 720x720 with 1 Axes>"
      ]
     },
     "metadata": {
      "needs_background": "light"
     },
     "output_type": "display_data"
    }
   ],
   "source": [
    "df_stats.plot(figsize=(10,10));"
   ]
  },
  {
   "cell_type": "code",
   "execution_count": 46,
   "id": "adapted-small",
   "metadata": {},
   "outputs": [
    {
     "data": {
      "image/png": "[encoded data removed]",
      "text/plain": [
       "<Figure size 432x288 with 2 Axes>"
      ]
     },
     "metadata": {
      "needs_background": "light"
     },
     "output_type": "display_data"
    }
   ],
   "source": [
    "heatmap = sns.heatmap(df_stats.corr(), annot=True);\n",
    "heatmap.set_title('Correlation of Covid-19 cases by country');"
   ]
  },
  {
   "cell_type": "code",
   "execution_count": 49,
   "id": "administrative-religion",
   "metadata": {},
   "outputs": [],
   "source": [
    "def GetCorrelationByDay(df, country1, country2, maxDays):\n",
    "    correlations = []\n",
    "    lags = []\n",
    "    for lag in range(-maxDays, maxDays + 1):\n",
    "        corr = df[country1].corr(df[country2].shift(lag))\n",
    "        correlations.append(corr)\n",
    "        lags.append(lag)\n",
    "        \n",
    "    return lags, correlations"
   ]
  },
  {
   "cell_type": "code",
   "execution_count": 57,
   "id": "enabling-peter",
   "metadata": {},
   "outputs": [],
   "source": [
    "lags, correlations = GetCorrelationByDay(df_stats, 'Sweden','Denmark', 8)\n"
   ]
  },
  {
   "cell_type": "code",
   "execution_count": 58,
   "id": "becoming-fabric",
   "metadata": {},
   "outputs": [
    {
     "data": {
      "text/plain": [
       "[<matplotlib.lines.Line2D at 0x18bb13d1070>]"
      ]
     },
     "execution_count": 58,
     "metadata": {},
     "output_type": "execute_result"
    },
    {
     "data": {
      "image/png": "[encoded data removed]",
      "text/plain": [
       "<Figure size 432x288 with 1 Axes>"
      ]
     },
     "metadata": {
      "needs_background": "light"
     },
     "output_type": "display_data"
    }
   ],
   "source": [
    "plt.plot(lags, correlations);"
   ]
  },
  {
   "cell_type": "code",
   "execution_count": null,
   "id": "everyday-timber",
   "metadata": {},
   "outputs": [],
   "source": []
  }
 ],
 "metadata": {
  "kernelspec": {
   "display_name": "Python 3",
   "language": "python",
   "name": "python3"
  },
  "language_info": {
   "codemirror_mode": {
    "name": "ipython",
    "version": 3
   },
   "file_extension": ".py",
   "mimetype": "text/x-python",
   "name": "python",
   "nbconvert_exporter": "python",
   "pygments_lexer": "ipython3",
   "version": "3.8.5"
  }
 },
 "nbformat": 4,
 "nbformat_minor": 5
}
